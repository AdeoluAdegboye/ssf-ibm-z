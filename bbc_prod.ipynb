{
 "cells": [
  {
   "cell_type": "code",
   "execution_count": 1,
   "metadata": {},
   "outputs": [],
   "source": [
    "import pandas as pd #Dataframe Manipulation library\n",
    "import numpy as np #Data Manipulation library\n",
    "from pathlib import Path\n",
    "\n",
    "#sklearn modules for Feature Extraction & Modelling\n",
    "from sklearn.feature_extraction.text import CountVectorizer, TfidfVectorizer\n",
    "from sklearn.metrics.pairwise import cosine_similarity\n",
    "\n",
    "#Libraries for Plotting \n",
    "import matplotlib.pyplot as plt\n",
    "from matplotlib.ticker import FuncFormatter\n",
    "\n",
    "#Read files Iteratively\n",
    "import glob\n",
    "import os"
   ]
  },
  {
   "cell_type": "code",
   "execution_count": 2,
   "metadata": {},
   "outputs": [
    {
     "name": "stdout",
     "output_type": "stream",
     "text": [
      "Loading data from \u001b[1mbusiness\u001b[0m directory\n",
      "Loading data from \u001b[1mentertainment\u001b[0m directory\n",
      "Loading data from \u001b[1mpolitics\u001b[0m directory\n",
      "Loading data from \u001b[1msport\u001b[0m directory\n",
      "Loading data from \u001b[1mtech\u001b[0m directory\n",
      "\n",
      "Entire Data is loaded successfully\n"
     ]
    }
   ],
   "source": [
    "def load_data(folder_names, root_path):\n",
    "    fileNames = [path + \"./BBC News Summary/News Articles/\" + folder + '/' + \"*.txt\"\n",
    "        for path,folder in zip([root_path]*len(folder_names), folder_names)]\n",
    "\n",
    "    doc_list = []\n",
    "    tags = folder_names\n",
    "    for docs in fileNames:\n",
    "        #print(docs)\n",
    "        doc = glob.glob(docs)#glob method iterates through all files and reads the text in documents in the folders\n",
    "        for text in doc:\n",
    "            with open(text, encoding=\"latin-1\") as f:\n",
    "                topic = docs.split('/')[len(docs.split('/'))-2]\n",
    "                lines = f.readlines()\n",
    "                heading = lines[0].strip()#stripping the text by spaces and using first element into heading\n",
    "                body = ' '.join([l.strip() for l in lines[1:]])\n",
    "                doc_list.append([topic,heading,body])\n",
    "        print(f\"Loading data from \\033[1m{topic}\\033[0m directory\")\n",
    "    print(\"\\nEntire Data is loaded successfully\")\n",
    "    \n",
    "    return doc_list\n",
    "folder_names = ['business','entertainment','politics','sport','tech']\n",
    "docs = load_data(folder_names=folder_names,root_path=os.getcwd())"
   ]
  },
  {
   "cell_type": "code",
   "execution_count": 3,
   "metadata": {},
   "outputs": [
    {
     "data": {
      "text/html": [
       "<div>\n",
       "<style scoped>\n",
       "    .dataframe tbody tr th:only-of-type {\n",
       "        vertical-align: middle;\n",
       "    }\n",
       "\n",
       "    .dataframe tbody tr th {\n",
       "        vertical-align: top;\n",
       "    }\n",
       "\n",
       "    .dataframe thead th {\n",
       "        text-align: right;\n",
       "    }\n",
       "</style>\n",
       "<table border=\"1\" class=\"dataframe\">\n",
       "  <thead>\n",
       "    <tr style=\"text-align: right;\">\n",
       "      <th></th>\n",
       "      <th>Category</th>\n",
       "      <th>Heading</th>\n",
       "      <th>Article</th>\n",
       "    </tr>\n",
       "  </thead>\n",
       "  <tbody>\n",
       "    <tr>\n",
       "      <th>0</th>\n",
       "      <td>business</td>\n",
       "      <td>Ad sales boost Time Warner profit</td>\n",
       "      <td>Quarterly profits at US media giant TimeWarne...</td>\n",
       "    </tr>\n",
       "    <tr>\n",
       "      <th>1</th>\n",
       "      <td>business</td>\n",
       "      <td>Dollar gains on Greenspan speech</td>\n",
       "      <td>The dollar has hit its highest level against ...</td>\n",
       "    </tr>\n",
       "    <tr>\n",
       "      <th>2</th>\n",
       "      <td>business</td>\n",
       "      <td>Yukos unit buyer faces loan claim</td>\n",
       "      <td>The owners of embattled Russian oil giant Yuk...</td>\n",
       "    </tr>\n",
       "    <tr>\n",
       "      <th>3</th>\n",
       "      <td>business</td>\n",
       "      <td>High fuel prices hit BA's profits</td>\n",
       "      <td>British Airways has blamed high fuel prices f...</td>\n",
       "    </tr>\n",
       "    <tr>\n",
       "      <th>4</th>\n",
       "      <td>business</td>\n",
       "      <td>Pernod takeover talk lifts Domecq</td>\n",
       "      <td>Shares in UK drinks and food firm Allied Dome...</td>\n",
       "    </tr>\n",
       "  </tbody>\n",
       "</table>\n",
       "</div>"
      ],
      "text/plain": [
       "   Category                            Heading  \\\n",
       "0  business  Ad sales boost Time Warner profit   \n",
       "1  business   Dollar gains on Greenspan speech   \n",
       "2  business  Yukos unit buyer faces loan claim   \n",
       "3  business  High fuel prices hit BA's profits   \n",
       "4  business  Pernod takeover talk lifts Domecq   \n",
       "\n",
       "                                             Article  \n",
       "0   Quarterly profits at US media giant TimeWarne...  \n",
       "1   The dollar has hit its highest level against ...  \n",
       "2   The owners of embattled Russian oil giant Yuk...  \n",
       "3   British Airways has blamed high fuel prices f...  \n",
       "4   Shares in UK drinks and food firm Allied Dome...  "
      ]
     },
     "execution_count": 3,
     "metadata": {},
     "output_type": "execute_result"
    }
   ],
   "source": [
    "data = pd.DataFrame(docs, columns = ['Category','Heading','Article'])\n",
    "data.head()"
   ]
  },
  {
   "cell_type": "code",
   "execution_count": 4,
   "metadata": {},
   "outputs": [],
   "source": [
    "data.to_csv('headings.csv')"
   ]
  },
  {
   "cell_type": "code",
   "execution_count": 5,
   "metadata": {},
   "outputs": [],
   "source": [
    "vectorizer = TfidfVectorizer(stop_words = 'english')"
   ]
  },
  {
   "cell_type": "code",
   "execution_count": 6,
   "metadata": {},
   "outputs": [
    {
     "name": "stdout",
     "output_type": "stream",
     "text": [
      "The shape of the tfidf |matrix : (2225, 3623)\n",
      "There are 2225 number of News Articles having 3623 unique words in tfidf vectors\n"
     ]
    }
   ],
   "source": [
    "vectors = vectorizer.fit_transform(data[\"Heading\"].values) # .values: convert DataFrame columns into List.List of data will be transformed into tfidf vector\n",
    "print(f\"The shape of the tfidf |matrix : {vectors.shape}\")\n",
    "print(f\"There are {vectors.shape[0]} number of News Articles having {vectors.shape[1]} unique words in tfidf vectors\")"
   ]
  },
  {
   "cell_type": "code",
   "execution_count": 7,
   "metadata": {},
   "outputs": [
    {
     "data": {
      "text/plain": [
       "<1x3623 sparse matrix of type '<class 'numpy.float64'>'\n",
       "\twith 4 stored elements in Compressed Sparse Row format>"
      ]
     },
     "execution_count": 7,
     "metadata": {},
     "output_type": "execute_result"
    }
   ],
   "source": [
    "new_query = [\"Stock Market Rates are rising\"]\n",
    "new_query_vector = vectorizer.transform(new_query)\n",
    "new_query_vector"
   ]
  },
  {
   "cell_type": "code",
   "execution_count": 8,
   "metadata": {},
   "outputs": [],
   "source": [
    "sim = cosine_similarity(X = vectors, Y = new_query_vector)"
   ]
  },
  {
   "cell_type": "code",
   "execution_count": 9,
   "metadata": {},
   "outputs": [
    {
     "data": {
      "text/plain": [
       "array([[0.],\n",
       "       [0.],\n",
       "       [0.],\n",
       "       ...,\n",
       "       [0.],\n",
       "       [0.],\n",
       "       [0.]])"
      ]
     },
     "execution_count": 9,
     "metadata": {},
     "output_type": "execute_result"
    }
   ],
   "source": [
    "sim"
   ]
  },
  {
   "cell_type": "code",
   "execution_count": 10,
   "metadata": {},
   "outputs": [
    {
     "name": "stdout",
     "output_type": "stream",
     "text": [
      "Top 10 News Articles similar to new_query are : \n",
      "\n",
      "['Stock market eyes Japan recovery']\n",
      "['US interest rates increased to 2%']\n",
      "['French consumer spending rising']\n",
      "[\"Labour's core support takes stock\"]\n",
      "['Home loan approvals rising again']\n",
      "[\"Small firms 'hit by rising costs'\"]\n",
      "['UK interest rates held at 4.75%']\n",
      "['Australia rates at four year high']\n",
      "['Bank set to leave rates on hold']\n",
      "['Bank opts to leave rates on hold']\n"
     ]
    }
   ],
   "source": [
    "ind = np.argsort(sim,axis = 0)[::-1][:10]\n",
    "print(\"Top 10 News Articles similar to new_query are : \\n\")\n",
    "for i in ind:\n",
    "    print(data['Heading'].values[i])"
   ]
  },
  {
   "cell_type": "code",
   "execution_count": 11,
   "metadata": {},
   "outputs": [
    {
     "name": "stdout",
     "output_type": "stream",
     "text": [
      "Index of the maximum valued similar document is : \u001b[1m282\u001b[0m\n",
      "Retrieved Document Header is : \u001b[1mStock market eyes Japan recovery\u001b[0m\n"
     ]
    }
   ],
   "source": [
    "#Extract Index of Maximum Valued similar document\n",
    "argmax = np.argmax(sim)\n",
    "print(f\"Index of the maximum valued similar document is : \\033[1m{argmax}\\033[0m\")\n",
    "print(f\"Retrieved Document Header is : \\033[1m{data.Heading[argmax]}\\033[0m\")"
   ]
  },
  {
   "cell_type": "code",
   "execution_count": 24,
   "metadata": {},
   "outputs": [],
   "source": [
    "def retrieve_doc(new_query,raw_docs,colname = None): # inputs are new_query,corpus,colname from the dataframe to be used for raw document text\n",
    "    vectorizer = TfidfVectorizer(stop_words = 'english') #convert to Tfidf Vectorizer\n",
    "    vectors = vectorizer.fit_transform(raw_docs[colname]) #preprocess the document, fit the model of tfidf document, transform it\n",
    "    print(f\"The shape of the tfidf matrix : {vectors.shape}\")\n",
    "    print(f\"There are {vectors.shape[0]} number of News Articles having {vectors.shape[1]} unique words in tfidf vectors\")\n",
    "    new_query = [new_query] #tfidf vectorizer accepts on list or an array(doesn't work on raw text)\n",
    "    new_query_vector = vectorizer.transform(new_query) #just transforms/calculates the frequency(of new_query) against the tokens we already have in matrix \n",
    "    new_query_vector\n",
    "    sim = cosine_similarity(X = vectors, Y = new_query_vector)#pairwise cosine similarity\n",
    "    argmax = np.argmax(sim)\n",
    "    print(f\"\\nIndex of the maximum valued similar document is : \\033[1m{argmax}\\033[0m\")\n",
    "    print(f\"Retrieved Document Header is : \\033[1m{data.Heading[argmax]}\\033[0m\")\n",
    "    ind = np.argsort(sim,axis = 0)[::-1][:10] #sorts similarity scores in [::-1] descending order ,[:10] top 10 most similar articles\n",
    "    print(\"\\nTop 10 News Articles similar to new_query are : \\n\")\n",
    "    for i in ind:\n",
    "        # print('Article - ' + i + ' : ', end='')\n",
    "        print(data.Heading.values[i])#prints the Headings of the top 10 similar articles\n",
    "        # print('Content: ', end='')\n",
    "        print(data.Article.values[i])#prints the Article of the top 10 similar articles\n",
    "        print()"
   ]
  },
  {
   "cell_type": "code",
   "execution_count": 25,
   "metadata": {},
   "outputs": [
    {
     "name": "stdout",
     "output_type": "stream",
     "text": [
      "The shape of the tfidf matrix : (2225, 28980)\n",
      "There are 2225 number of News Articles having 28980 unique words in tfidf vectors\n",
      "\n",
      "Index of the maximum valued similar document is : \u001b[1m2091\u001b[0m\n",
      "Retrieved Document Header is : \u001b[1mIBM frees 500 software patents\u001b[0m\n",
      "\n",
      "Top 10 News Articles similar to new_query are : \n",
      "\n",
      "['IBM frees 500 software patents']\n",
      "[' Computer giant IBM says 500 of its software patents will be released into the open development community.  The move means developers will be able to use the technologies without paying for a licence from the company. IBM described the step as a \"new era\" in how it dealt with intellectual property and promised further patents would be made freely available. The patents include software for a range of practices, including text recognition and database management. Traditional technology business policy is to amass patents and despite IBM\\'s announcement the company continues to follow this route.  IBM was granted 3,248 patents in 2004, more than any other firm in the US, the New York Times reports. For each of the past 12 years IBM has been granted more US patents than any other company. IBM has received 25,772 US patents in that period and reportedly has more than 40,000 current patents. In a statement, Dr John E. Kelly, IBM senior vice president, Technology and Intellectual Property, said: \"True innovation leadership is about more than just the numbers of patents granted. It\\'s about innovating to benefit customers, partners and society.  \"Our pledge today is the beginning of a new era in how IBM will manage intellectual property.\" In the past, IBM has supported the non-commercial operating system Linux although critics have said this was done only as an attempt to undermine Microsoft.  The company said it wanted to encourage other firms to release patents into what it called a \"patent commons\". Adam Jollans, IBM\\'s world-wide Linux strategy manager, said the move was a genuine attempt to encourage innovation. \"We believe that releasing these patents will result in innovation moving more quickly. \"This is about encouraging collaboration and following a model much like academia.\" Mr Jollans likened the plan for a patent commons to the way the internet was developed and said everyone could take advantage of the result of collaboration. \"The internet\\'s impact has been on everyone. The benefits are there for everyone to take advantage of.\" Stuart Cohen, chief executive of US firm Open Source Development Labs, said the move could mean a change in the way companies deal with patents.  \"I think other companies will follow suit,\" he said. But not everyone was as supportive. Florian Mueller, campaign manager of a group lobbying toprevent software patents becoming legal in the European Union,dismissed IBM\\'s move as insubstantial. \"It\\'s just diversionary tactics,\" wrote Mr Mueller, who leadsnosoftwarepatents.com, in a message on the group\\'s website. \"Let\\'s put this into perspective: We\\'re talking aboutroughly one percent of IBM\\'s worldwide patent portfolio. They filethat number of patents in about a month\\'s time,\" he added. IBM will continue to hold the 500 patents but it has pledged to seek no royalties from the patents. The company said it would not place any restrictions on companies, groups or individuals who use them in open-source projects. Open source software is developed by programmers who offer the source code - the origins of the program - for free and allow others to adapt or improve the software. End users have the right to modify and redistribute the software, as well as the right to package and sell the software. Other areas covered by the patents released by IBM include storage management, simultaneous multiprocessing, image processing, networking and e-commerce.']\n",
      "\n",
      "['IBM puts cash behind Linux push']\n",
      "[\" IBM is spending $100m (Â£52m) over the next three years beefing up its commitment to Linux software.  The cash injection will be used to help its customers use Linux on every type of device from handheld computers and phones right up to powerful servers. IBM said the money will fund a variety of technical, research and marketing initiatives to boost Linux use. IBM said it had taken the step in response to greater customer demand for the open source software.  In 2004 IBM said it had seen double digit growth in the number of customers using Linux to help staff work together more closely. The money will be used to help this push towards greater collaboration and will add Linux-based elements to IBM's Workplace software. Workplace is a suite of programs and tools that allow workers to get at core business applications no matter what device they use to connect to corporate networks. One of the main focuses of the initiative will be to make it easier to use Linux-based desktop computers and mobile devices with Workplace. Even before IBM announced this latest spending boost it was one of the biggest advocates of the open source way of working. In 2001 it put $300m into a three-year Linux program and has produced Linux versions of many of its programs. Linux and the open source software movement are based on the premise that developers should be free to tinker with the core components of software programs. They reason that more open scrutiny of software produces better programs and fuels innovation.\"]\n",
      "\n",
      "['IBM puts cash behind Linux push']\n",
      "[\" IBM is spending $100m (Â£52m) over the next three years beefing up its commitment to Linux software.  The cash injection will be used to help its customers use Linux on every type of device from handheld computers and phones right up to powerful servers. IBM said the money will fund a variety of technical, research and marketing initiatives to boost Linux use. IBM said it had taken the step in response to greater customer demand for the open source software.  In 2004 IBM said it had seen double digit growth in the number of customers using Linux to help staff work together more closely. The money will be used to help this push towards greater collaboration and will add Linux-based elements to IBM's Workplace software. Workplace is a suite of programs and tools that allow workers to get at core business applications no matter what device they use to connect to corporate networks. One of the main focuses of the initiative will be to make it easier to use Linux-based desktop computers and mobile devices with Workplace. Even before IBM announced this latest spending boost it was one of the biggest advocates of the open source way of working. In 2001 it put $300m into a three-year Linux program and has produced Linux versions of many of its programs. Linux and the open source software movement are based on the premise that developers should be free to tinker with the core components of software programs. They reason that more open scrutiny of software produces better programs and fuels innovation.\"]\n",
      "\n",
      "['Why Cell will get the hard sell']\n",
      "[' The world is casting its gaze on the Cell processor for the first time, but what is so important about it, and why is it so different?  The backers of the processor are big names in the computer industry. IBM is one of the largest and most respected chip-makers in the world, providing cutting edge technology to large businesses. Sony will be using the chip inside its PlayStation 3 console, and its dominance of the games market means that it now has a lot of power to dictate the future of computer and gaming platforms. The technology inside the Cell is being heralded as revolutionary, from a technical standpoint. Traditional computers - whether they are household PCs or PlayStation 2s - use a single processor to carry out the calculations that run the computer. The Cell technology, on the other hand, uses multiple Cell processors linked together to run lots of calculations simultaneously.  This gives it processing power an order of magnitude above its competitors. Whilst its rivals are working on similar technology, it is Sony\\'s which is the most advanced. The speed of computer memory has been slowly increasing over the last few years, but the memory technology that accompanies the Cell is a huge leap in performance.  Using a technology called XDR, created by American firm Rambus, memory can run up to eight times faster than the current standard being promoted by Intel. Perhaps more important than any of the technology is the Cell\\'s role in the imminent \"war on living rooms\". The big trend predicted for this year is the convergence of computers with home entertainment devices such as DVD players and hi-fis. Companies like Microsoft and Sony believe that there is a lot of money to be made by putting a computer underneath the TV of every household and then offering services such as music and video downloads, as well as giving an individual access to all the media they already own in one place.  Microsoft has already made its first tactical move into this area with its Windows Media Center software, which has been adopted by many PC makers. Sony had a stab at something similar with the PSX - a variation on the PlayStation - last year in Japan, although this attempt was generally seen as a failure. Both companies believe that increasing the capabilities of games consoles, to make them as powerful as PCs, will make the technology accessible enough to persuade buyers to give them pride of place on the video rack.  Sony and IBM want to make sure that the dominance of the PC market enjoyed by Microsoft and Intel is not allowed to extend to this market. By creating a radically new architecture, and using that architecture in a games console that is sure to be a huge seller, they hope that the Cell processor can become the dominant technology in the living room, shutting out their rivals. Once they have established themselves under the TV, there is no doubt that they hope to use this as a base camp to extend their might into our traditional PCs and instigate a regime change on the desktop. Cell is, in fact, specifically designed to be deployed throughout the house. The links between the multiple processors can also be extended to reach Cell processors in entirely different systems.  Sony hopes to put Cells in televisions, kitchen appliances and anywhere that could use any sort of computer chip. Each Cell will be linked to the others, creating a vast home network of computing power. Resources of the Cells across the house can be pooled to provide more power, and the links can also be used to enable devices to talk to each other, so that you can programme your microwave from your TV, for example. This digital home of the future depends on the widespread adoption of the Cell processor and there are, as with all things, a number of reasons it could fail. Because the processor is so different, it requires programmers to learn a different way of writing software, and it may be that the changeover is simply too difficult for them to master. You can also guarantee that Microsoft and Intel are not going to sit around and let Cell take over home computing without a fight. Microsoft is going to be pushing its Xbox 2 as hard as possible to make sure that its technology, not Sony\\'s, will be under your tree next Christmas. Intel will be furiously working on new designs that address the problems of its current chips to create a rival technology to Cell, so that it doesn\\'t lose its desktop PC dominance. If Cell succeeds in becoming the living room technology of choice, however, it could provide the jump-start to the fully digital home of the future. The revolution might not be televised, but it could well be played with a videogame controller.']\n",
      "\n",
      "[\"Profits stall at China's Lenovo\"]\n",
      "[\" Profits at Chinese computer firm Lenovo have stood still amid slowing demand at home and stiffening competition.  The firm is in the international spotlight after last year signing a deal to buy the PC division of personal computer pioneer IBM. Lenovo's profit for the three months to December was HK$327m (US$42m; Â£22m), less than 1% up on the year before. Chinese PC sales have risen by a fifth in each of the past two years, but are now growing more slowly. The company is still by far the biggest player in China, with more than a quarter of the market. But Western firms such as Dell and Hewlett-Packard are also mounting a more solid fight for market share in China, and Lenovo's sales were down 3.7% by revenue to HK$6.31bn.  If the $1.75bn agreement Lenovo signed with IBM on 8 December goes through, it will mark the end of an era. IBM pioneered the desktop PC market in the early 1980s, although strategic mis-steps helped lose it its early dominance. In any case, margins in PC market are now wafer thin, and profits have been hard to come by for most vendors except direct-sales giant Dell. But investors have been less than impressed with Lenovo's move, designed to take it out of China and further onto the world stage. Its shares are down 20% since the announcement two months ago, largely because of the unprofitability of the unit it is buying. There have been rumours that the deal could be in trouble because US government agencies fear it could offer China opportunities for industrial espionage. The reports of the possibility of an investigation into the risk sent Lenovo's shares up 6% in late January.\"]\n",
      "\n",
      "['When invention turns to innovation']\n",
      "[' It is unlikely that future technological inventions are going to have the same kind of transformative impact that they did in the past.  When history takes a look back at great inventions like the car and transistor, they were defining technologies which ultimately changed people\\'s lives substantially. But, says Nick Donofrio, senior vice-president of technology and manufacturing at IBM, it was not \"the thing\" itself that actually improved people\\'s lives. It was all the social and cultural changes that the discovery or invention brought with it. The car brought about a crucial change to how people lived in cities, giving them the ability to move out into the suburbs, whilst having mobility and access. \"When we talk about innovation and creating real value in the 21st Century, we have to think more like this, but faster,\" Mr Donofrio told the BBC News website, after giving the Royal Academy of Engineering 2004 Hinton Lecture. \"The invention, discovery is likely not to have the same value as the transistor had or the automobile had. \"The equivalent of those things will be invented or discovered, but by themselves, they are just not going to able to generate real business value or wealth as these things did.\" These are not altogether new ideas, and academics have been exploring how technologies impact wider society for years. But what it means for technology companies is that a new idea, method, or device, will have to have a different kind thinking behind it so that people see the value that innovative technology has for them.  We are in a different phase now when it comes to technology, argues Mr Donofrio, Industry Week\\'s 2003 Technology Leader of the Year. The hype and over-promise is over and now technology leaders have to demonstrate that things work, make sense, make a difference and life gets better as a result.  \"In the dotcom era, there was something that was jumping up in your face every five minutes. \"Somebody had a new thing that would awe you. You weren\\'t quite sure that it did anything, you weren\\'t quite sure if you needed it, you weren\\'t quite sure if it had value for it, but it was cool.\" But change and innovation in technology that people will see affecting their daily lives, he says, will come about slowly, subtlety, and in ways that will no longer be \"in your face\". It will creep in pervasively. Nanotechnologies will play a key part in this kind of pervasive environment in all sorts of ways, through new superconducting materials, to coatings, power, and memory storage. \"I am a very big believer in the evolution of this industry into a pervasive environment, in an incredible network infrastructure,\" says Mr Donofrio. Pervasive computing is where wireless computing rules, and where jewellery, clothes, and everyday objects become the interfaces instead of bulky wires, screens and keyboards. The net becomes a true network that is taken for granted and just there, like air. \"People will not have to do anything to stay connected. People will know their lives are just better,\" says Mr Donofrio. \"Trillions of devices will be connected to the net in ways people will not know.\" Natural interfaces will develop, devices will shape your persona, and our technologically underused voices could be telling our jewellery to sort out the finances.  Ultimately, there will be, says Mr Donofrio, no value in being \"computer illiterate\". To some, it sounds like a technological world gone mad. To Mr Donofrio, it is a vision innovation that will happen. Behind this vision should be a rich robust network capability and \"deep computing\", says Mr Donofrio. Deep computing is the ability to perform lots of complex calculations on massive amounts of data, and integral to this concept is supercomputing. It has value, according to IBM, because it helps humans work out extremely complex problems to come up with valuable solutions, like how to refine millions of net search results, finding cures for diseases, or understanding of exactly how a gene or protein operates.  But pervasive computing presumably means having technologies that are aware of diversity of contexts, commands, and requirements of a diverse world. As computing and technologies become part of the environment, part of furniture, walls, and clothing, physical space becomes a more important consideration.  This is going to need a much broader range of skills and experience. \"I am confident that the SET [science, engineering and technology] industry is going to be short on skills,\" he says. \"If I am right about what innovation is, you need to be multidisciplinary and collaborative. \"Women tend to have those traits a lot better than men.\" Eventually, women could win out in both life and physical sciences, he says. In the UK, a DTI-funded resource centre for women has set a target to have 40% representation on SET industry boards. IBM, according to Mr Donofrio, has 30%. \"Our goal is for our research team to become the preferred organisation for women in science and technology to begin their career.\" The whole issue of global diversity is as much a business matter as it is a moral and social concern to Mr Donofrio. \"We believe in the whole issue of global diversity,\" he says. \"Our customers are diverse, our clients are diverse. They expect us to look like them. \"As more and more women or underrepresented minorities succeed into leadership positions, it becomes and imperative for us to constantly look like them.\"']\n",
      "\n",
      "['PlayStation 3 processor unveiled']\n",
      "[' The Cell processor, which will drive Sony\\'s PlayStation 3, will run 10-times faster than current PC chips, its designers have said.  Sony, IBM and Toshiba, who have been working on the Cell processor for three years, unveiled the chip on Monday. It is being designed for use in graphics workstations, the new PlayStation console, and has been described as a supercomputer on a chip. The chip will run at speeds of greater than 4 GHz, the firms said. By comparison, rival chip maker Intel\\'s fastest processor runs at 3.8 GHz. Details of the chip were released at the International Solid State Circuits Conference in San Francisco. The new processor is set to ignite a fresh battle between Intel and the Cell consortium over which processor sits at the centre of digital products. The PlayStation 3 is expected in 2006, while Toshiba plans to incorporate it into high-end televisions next year. IBM has said it will sell a workstation with the chip starting later this year.  Cell is comprised of several computing engines, or cores. A core based on IBM\\'s Power architecture controls eight \"synergistic\" processing centres. In all, they can simultaneously carry out 10 instruction sequences, compared with two for current Intel chips.  Later this year, Intel and Advanced Micro Devices plan to release their own \"multicore\" chips, which also increase the number of instructions that can be executed at once. The Cell\\'s specifications suggest the PlayStation 3 will offer a significant boost in graphics capabilities but analysts cautioned that not all the features in a product announcement will find their way into systems. \"Any new technology like this has two components,\" said Steve Kleynhans, an analyst with Meta Group. He said: \"It has the vision of what it could be because you need the big vision to sell it. \"Then there\\'s the reality of how it\\'s really going to be used, which generally is several levels down the chain from there.\"  While the PlayStation 3 is likely to be the first mass-market product to use Cell, the chip\\'s designers have said the flexible architecture means that it would be useful for a wide range of applications, from servers to mobile phones. Initial devices are unlikely to be any smaller than a games console, however, because the first version of the Cell will run hot enough to need a cooling fan. And while marketing speak describes the chip as a \"supercomputer\" - it remains significantly slower than the slowest computer on the list of the world\\'s top 500 supercomputers. IBM said Cell was \"OS neutral\" and would support multiple operating systems simultaneously but designers would not confirm if Microsoft\\'s Windows was among those tested with the chip. If Cell is to challenge Intel\\'s range of chips in the marketplace, it will need to find itself inside PCs, which predominantly run using Windows.']\n",
      "\n",
      "['Supercomputer breaks speed record']\n",
      "[' The US is poised to push Japan off the top of the supercomputing chart with IBM\\'s prototype Blue Gene/L machine.  It is being assembled for the Lawrence Livermore National Laboratory, a US Department of Energy (DOE) lab. DOE test results show that Blue Gene/L has managed speeds of 70.72 teraflops. The current top machine, Japan\\'s NEC Earth Simulator, clocks up 35.86. Due next week, the Top 500 list officially charts the fastest computers in the world. It is announced every six months and is worked out using an officially recognised mathematical speed test called Linpack which measures calculations per second. The speeds will most likely make it the fastest computer system on the planet, yet the chip technology powering the machine is the kind which can be found in familiar devices such as games consoles.  The US Secretary of Energy Spencer Abraham confirmed that the machine had reached the breakneck speed, according to the Linpack benchmark. Until the official list is published, however, Blue Gene/L\\'s position will not be confirmed, and there are expected to be some other new entries. But the test results raise the bar of supercomputing enormously and signal a remarkable achievement. Surpassing the 40 trillion calculations per second (teraflop) mark has been considered a landmark for some time.  The IBM Blue Gene/L is only a prototype and is one 5th the speed of the full version, due to be completed for the Livermore labs in 2005. Its peak theoretical performance is expected to be 360 teraflops, and will fit into 64 full racks. It will also cut down on the amount of heat generated by the massive power, a big problem for supercomputers. The final machine will help scientists work out the safety, security and reliability requirements for the US\\'s nuclear weapons stockpile, without the need for underground nuclear testing. The Earth Simulator has held on to the top spot since June 2002. It is dedicated to climate modelling and simulating seismic activity. But in September, IBM said that another Blue Gene/L machine clocked up 36.01 teraflops, marginally surpassing the Earth Simulator\\'s performance. This was achieved during internal testing at IBM\\'s production facility in Rochester, Minnesota, though, so was not an official record. Another giant to enter the fray is Silicon Graphics\\' Columbia supercomputer based at Nasa\\'s Ames Research Center in California. It would be used to model flight missions, climate research, and aerospace engineering. The Linux-based machine was reported to have reached a top speed of 42.7 teraflops in October.  Supercomputers are hugely important for working out very complex problems across science and society. Their massive simulation and processing power means they can improve the accuracy of weather forecasts, help design better cars, and improve disease diagnosis. IBM\\'s senior vice president of technology and manufacturing, Nick Donofrio, believes that by 2006, Blue Gene will be capable of petaflop computing. This means it would be capable of doing 1,000 trillion operations a second. \"When you get a computer as large as a petaflop, you can start to think of simulations that might complement the physical world,\" Mr Donofrio recently told the BBC News website.  \"You can start to be more proactive, more interactive and more innovative.\" One area where Mr Donofrio sees supercomputing - and Blue Gene machines in particular - as crucial is health. He believes the machines can help scientists understand one of the greatest challenges of the 21st Century: protein folding. \"Health is one of the most important problems, not just mapping the human genome, but also protein structures. \"We are a great believer in simulation. It gives you another tool,\" he said. Once the structures of proteins are understood fully, then drugs can be tailor-made to fight diseases more effectively. Compared with the current fastest supercomputers, Blue Gene is designed to consume one 15th the power and be 10 times more compact. Since the first supercomputer, the Cray-1, was installed at Los Alamos National Laboratory in 1976, computational speed has leaped 500,000 times. The Cray-1 was capable of 80 megaflops (80 million operations a second). The Blue Gene/L machine that will be completed next year will be five million times faster. Started in 1993, the Top 500 list is decided by a group of computer science academics from around the world. It is presented at the International Supercomputer Conference in Pittsburgh.']\n",
      "\n",
      "[\"Mobiles 'not media players yet'\"]\n",
      "[' Mobiles are not yet ready to be all-singing, all-dancing multimedia devices which will replace portable media players, say two reports.  Despite moves to bring music download services to mobiles, people do not want to trade multimedia services with size and battery life, said Jupiter. A separate study by Gartner has also said real-time TV broadcasts to mobiles is \"unlikely\" in Europe until 2007. Technical issues and standards must be resolved first, said the report. Batteries already have to cope with other services that operators offer, like video playback, video messaging, megapixel cameras and games amongst others. Bringing music download services based on the success of computer-based download services will put more demands on battery life.  Fifty percent of Europeans said the size of a mobile was the most important factor when it came to choosing their phone, but more power demands tend to mean larger handsets. \"Mobile phone music services must not be positioned to compete with the PC music experience as the handsets are not yet ready,\" said Thomas Husson, mobile analyst at Jupiter research. \"Mobile music services should be new and different, and enable operators to differentiate their brands and support third generation network launches.\" Other problems facing mobile music include limited storage on phones, compared to portable players which can hold up to 40GB of music. The mobile industry is keen to get into music downloading, after the success of Apple\\'s iTunes, Napster and other net music download services.  With phones getting smarter and more powerful, there are also demands to be able to watch TV on the move. In the US, services like TiVo To Go let people transfer pre-recorded TV content onto their phones. But, the Gartner report on mobile TV broadcasting in Europe suggests direct broadcasting will have to wait. Currently, TV-like services, where clips are downloaded, are offered by several European operators, like Italy\\'s TIM and 3. Mobile TV will have to overcome several barriers before it is widely taken up though, said the report.  Various standards and ways of getting TV signals to mobiles are being worked on globally. In Europe, trials in Berlin and Helsinki are making use of terrestrial TV masts to broadcast compressed signals to handsets with extra receivers. A service from the Norwegian Broadcasting Corporation lets people watch TV programmes on their mobiles 24 hours a day. The service uses 3GP technology, one of the standards for mobile TV. But at the end of 2004, the European Telecommunications Institute (Etsi) formally adopted Digital Video Broadcasting Handheld (DVB-H) as the mobile TV broadcasting standard for Europe. Operators will be working on the standard as a way to bring real-time broadcasts to mobiles, as well as trying to overcome several other barriers. The cost and infrastructure needs to set up the services will need to be addressed. Handsets also need to be able to work with the DVB-H standard. TV services will have to live up to the expectations of the digital TV generation too, which expects good quality images at low prices, according to analysts. People are also likely to be put off watching TV on such small screens, said Gartner. Digital video recorders, like Europe\\'s Sky+ box, and video-on-demand services mean people have much more control over what TV they watch. As a result, people may see broadcasting straight to mobiles as taking away that control. More powerful smartphones like the XDA II, Nokia 6600, SonyEricsson P900 and the Orange E200, offering web access, text and multimedia messaging, e-mail, calendar and gaming are becoming increasingly common. A report by analysts InStat/MDR has predicted that smartphone shipments will grow by 44% over the next five years. It says that smartphones will make up 117 million out of 833 million handsets shipped globally by 2009.']\n",
      "\n",
      "[\"Mobiles 'not media players yet'\"]\n",
      "[' Mobiles are not yet ready to be all-singing, all-dancing multimedia devices which will replace portable media players, say two reports.  Despite moves to bring music download services to mobiles, people do not want to trade multimedia services with size and battery life, said Jupiter. A separate study by Gartner has also said real-time TV broadcasts to mobiles is \"unlikely\" in Europe until 2007. Technical issues and standards must be resolved first, said the report. Batteries already have to cope with other services that operators offer, like video playback, video messaging, megapixel cameras and games amongst others. Bringing music download services based on the success of computer-based download services will put more demands on battery life.  Fifty percent of Europeans said the size of a mobile was the most important factor when it came to choosing their phone, but more power demands tend to mean larger handsets. \"Mobile phone music services must not be positioned to compete with the PC music experience as the handsets are not yet ready,\" said Thomas Husson, mobile analyst at Jupiter research. \"Mobile music services should be new and different, and enable operators to differentiate their brands and support third generation network launches.\" Other problems facing mobile music include limited storage on phones, compared to portable players which can hold up to 40GB of music. The mobile industry is keen to get into music downloading, after the success of Apple\\'s iTunes, Napster and other net music download services.  With phones getting smarter and more powerful, there are also demands to be able to watch TV on the move. In the US, services like TiVo To Go let people transfer pre-recorded TV content onto their phones. But, the Gartner report on mobile TV broadcasting in Europe suggests direct broadcasting will have to wait. Currently, TV-like services, where clips are downloaded, are offered by several European operators, like Italy\\'s TIM and 3. Mobile TV will have to overcome several barriers before it is widely taken up though, said the report.  Various standards and ways of getting TV signals to mobiles are being worked on globally. In Europe, trials in Berlin and Helsinki are making use of terrestrial TV masts to broadcast compressed signals to handsets with extra receivers. A service from the Norwegian Broadcasting Corporation lets people watch TV programmes on their mobiles 24 hours a day. The service uses 3GP technology, one of the standards for mobile TV. But at the end of 2004, the European Telecommunications Institute (Etsi) formally adopted Digital Video Broadcasting Handheld (DVB-H) as the mobile TV broadcasting standard for Europe. Operators will be working on the standard as a way to bring real-time broadcasts to mobiles, as well as trying to overcome several other barriers. The cost and infrastructure needs to set up the services will need to be addressed. Handsets also need to be able to work with the DVB-H standard. TV services will have to live up to the expectations of the digital TV generation too, which expects good quality images at low prices, according to analysts. People are also likely to be put off watching TV on such small screens, said Gartner. Digital video recorders, like Europe\\'s Sky+ box, and video-on-demand services mean people have much more control over what TV they watch. As a result, people may see broadcasting straight to mobiles as taking away that control. More powerful smartphones like the XDA II, Nokia 6600, SonyEricsson P900 and the Orange E200, offering web access, text and multimedia messaging, e-mail, calendar and gaming are becoming increasingly common. A report by analysts InStat/MDR has predicted that smartphone shipments will grow by 44% over the next five years. It says that smartphones will make up 117 million out of 833 million handsets shipped globally by 2009.']\n",
      "\n"
     ]
    }
   ],
   "source": [
    "new_query = \"IBM Technology Services\"\n",
    "retrieve_doc(new_query,raw_docs=data,colname =  \"Article\")"
   ]
  },
  {
   "cell_type": "code",
   "execution_count": null,
   "metadata": {},
   "outputs": [],
   "source": []
  }
 ],
 "metadata": {
  "kernelspec": {
   "display_name": "Python 3.8.12 ('base')",
   "language": "python",
   "name": "python3"
  },
  "language_info": {
   "codemirror_mode": {
    "name": "ipython",
    "version": 3
   },
   "file_extension": ".py",
   "mimetype": "text/x-python",
   "name": "python",
   "nbconvert_exporter": "python",
   "pygments_lexer": "ipython3",
   "version": "3.8.12"
  },
  "orig_nbformat": 4,
  "vscode": {
   "interpreter": {
    "hash": "1a98dfdbf5f4dedf5e8d8f4bfd1359a63aa6179b015a1f011f140876f85c4cf3"
   }
  }
 },
 "nbformat": 4,
 "nbformat_minor": 2
}
