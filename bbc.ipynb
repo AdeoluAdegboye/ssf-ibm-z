{
 "cells": [
  {
   "cell_type": "code",
   "execution_count": 3,
   "metadata": {},
   "outputs": [],
   "source": [
    "import os\n",
    "import pandas as pd"
   ]
  },
  {
   "cell_type": "code",
   "execution_count": 4,
   "metadata": {},
   "outputs": [
    {
     "data": {
      "text/html": [
       "<div>\n",
       "<style scoped>\n",
       "    .dataframe tbody tr th:only-of-type {\n",
       "        vertical-align: middle;\n",
       "    }\n",
       "\n",
       "    .dataframe tbody tr th {\n",
       "        vertical-align: top;\n",
       "    }\n",
       "\n",
       "    .dataframe thead th {\n",
       "        text-align: right;\n",
       "    }\n",
       "</style>\n",
       "<table border=\"1\" class=\"dataframe\">\n",
       "  <thead>\n",
       "    <tr style=\"text-align: right;\">\n",
       "      <th></th>\n",
       "      <th>File_path</th>\n",
       "      <th>Articles</th>\n",
       "      <th>Summaries</th>\n",
       "    </tr>\n",
       "  </thead>\n",
       "  <tbody>\n",
       "    <tr>\n",
       "      <th>0</th>\n",
       "      <td>business/001.txt</td>\n",
       "      <td>Ad sales boost Time Warner profit..Quarterly p...</td>\n",
       "      <td>TimeWarner said fourth quarter sales rose 2% t...</td>\n",
       "    </tr>\n",
       "    <tr>\n",
       "      <th>1</th>\n",
       "      <td>business/002.txt</td>\n",
       "      <td>Dollar gains on Greenspan speech..The dollar h...</td>\n",
       "      <td>The dollar has hit its highest level against t...</td>\n",
       "    </tr>\n",
       "    <tr>\n",
       "      <th>2</th>\n",
       "      <td>business/003.txt</td>\n",
       "      <td>Yukos unit buyer faces loan claim..The owners ...</td>\n",
       "      <td>Yukos' owner Menatep Group says it will ask Ro...</td>\n",
       "    </tr>\n",
       "    <tr>\n",
       "      <th>3</th>\n",
       "      <td>business/004.txt</td>\n",
       "      <td>High fuel prices hit BA's profits..British Air...</td>\n",
       "      <td>Rod Eddington, BA's chief executive, said the ...</td>\n",
       "    </tr>\n",
       "    <tr>\n",
       "      <th>4</th>\n",
       "      <td>business/005.txt</td>\n",
       "      <td>Pernod takeover talk lifts Domecq..Shares in U...</td>\n",
       "      <td>Pernod has reduced the debt it took on to fund...</td>\n",
       "    </tr>\n",
       "  </tbody>\n",
       "</table>\n",
       "</div>"
      ],
      "text/plain": [
       "          File_path                                           Articles  \\\n",
       "0  business/001.txt  Ad sales boost Time Warner profit..Quarterly p...   \n",
       "1  business/002.txt  Dollar gains on Greenspan speech..The dollar h...   \n",
       "2  business/003.txt  Yukos unit buyer faces loan claim..The owners ...   \n",
       "3  business/004.txt  High fuel prices hit BA's profits..British Air...   \n",
       "4  business/005.txt  Pernod takeover talk lifts Domecq..Shares in U...   \n",
       "\n",
       "                                           Summaries  \n",
       "0  TimeWarner said fourth quarter sales rose 2% t...  \n",
       "1  The dollar has hit its highest level against t...  \n",
       "2  Yukos' owner Menatep Group says it will ask Ro...  \n",
       "3  Rod Eddington, BA's chief executive, said the ...  \n",
       "4  Pernod has reduced the debt it took on to fund...  "
      ]
     },
     "execution_count": 4,
     "metadata": {},
     "output_type": "execute_result"
    }
   ],
   "source": [
    "classes = os.listdir('./BBC News Summary/News Articles')\n",
    "Articles_dir = './BBC News Summary/News Articles/'\n",
    "Summaries_dir = './BBC News Summary/Summaries/'\n",
    "\n",
    "articles = []\n",
    "summaries = []\n",
    "file_arr = []\n",
    "for cls in classes:\n",
    "    files = os.listdir(Articles_dir + cls)\n",
    "    for file in files:\n",
    "        article_file_path = Articles_dir + cls + '/' + file\n",
    "        summary_file_path = Summaries_dir + cls + '/' + file\n",
    "        try:\n",
    "            with open (article_file_path,'r') as f:\n",
    "                articles.append('.'.join([line.rstrip() for line in f.readlines()]))\n",
    "            with open (summary_file_path,'r') as f:\n",
    "                summaries.append('.'.join([line.rstrip() for line in f.readlines()]))\n",
    "            file_arr.append(cls + '/' + file)\n",
    "        except:\n",
    "            pass\n",
    "            \n",
    "data = pd.DataFrame({'File_path':file_arr,'Articles': articles,'Summaries':summaries})\n",
    "data.head()"
   ]
  },
  {
   "cell_type": "code",
   "execution_count": 6,
   "metadata": {},
   "outputs": [
    {
     "name": "stdout",
     "output_type": "stream",
     "text": [
      "<class 'pandas.core.frame.DataFrame'>\n",
      "RangeIndex: 2225 entries, 0 to 2224\n",
      "Data columns (total 3 columns):\n",
      " #   Column     Non-Null Count  Dtype \n",
      "---  ------     --------------  ----- \n",
      " 0   File_path  2225 non-null   object\n",
      " 1   Articles   2225 non-null   object\n",
      " 2   Summaries  2225 non-null   object\n",
      "dtypes: object(3)\n",
      "memory usage: 52.3+ KB\n"
     ]
    }
   ],
   "source": [
    "data.info()"
   ]
  },
  {
   "cell_type": "code",
   "execution_count": 7,
   "metadata": {},
   "outputs": [
    {
     "data": {
      "text/html": [
       "<div>\n",
       "<style scoped>\n",
       "    .dataframe tbody tr th:only-of-type {\n",
       "        vertical-align: middle;\n",
       "    }\n",
       "\n",
       "    .dataframe tbody tr th {\n",
       "        vertical-align: top;\n",
       "    }\n",
       "\n",
       "    .dataframe thead th {\n",
       "        text-align: right;\n",
       "    }\n",
       "</style>\n",
       "<table border=\"1\" class=\"dataframe\">\n",
       "  <thead>\n",
       "    <tr style=\"text-align: right;\">\n",
       "      <th></th>\n",
       "      <th>File_path</th>\n",
       "      <th>Articles</th>\n",
       "      <th>Summaries</th>\n",
       "    </tr>\n",
       "  </thead>\n",
       "  <tbody>\n",
       "    <tr>\n",
       "      <th>count</th>\n",
       "      <td>2225</td>\n",
       "      <td>2225</td>\n",
       "      <td>2225</td>\n",
       "    </tr>\n",
       "    <tr>\n",
       "      <th>unique</th>\n",
       "      <td>2225</td>\n",
       "      <td>2127</td>\n",
       "      <td>2081</td>\n",
       "    </tr>\n",
       "    <tr>\n",
       "      <th>top</th>\n",
       "      <td>business/001.txt</td>\n",
       "      <td>Ray DVD beats box office takings..Oscar-nomina...</td>\n",
       "      <td>Although the two partially-paralysed people pe...</td>\n",
       "    </tr>\n",
       "    <tr>\n",
       "      <th>freq</th>\n",
       "      <td>1</td>\n",
       "      <td>2</td>\n",
       "      <td>2</td>\n",
       "    </tr>\n",
       "  </tbody>\n",
       "</table>\n",
       "</div>"
      ],
      "text/plain": [
       "               File_path                                           Articles  \\\n",
       "count               2225                                               2225   \n",
       "unique              2225                                               2127   \n",
       "top     business/001.txt  Ray DVD beats box office takings..Oscar-nomina...   \n",
       "freq                   1                                                  2   \n",
       "\n",
       "                                                Summaries  \n",
       "count                                                2225  \n",
       "unique                                               2081  \n",
       "top     Although the two partially-paralysed people pe...  \n",
       "freq                                                    2  "
      ]
     },
     "execution_count": 7,
     "metadata": {},
     "output_type": "execute_result"
    }
   ],
   "source": [
    "data.describe()"
   ]
  },
  {
   "cell_type": "code",
   "execution_count": null,
   "metadata": {},
   "outputs": [],
   "source": [
    "data.to_csv('news.csv')"
   ]
  }
 ],
 "metadata": {
  "kernelspec": {
   "display_name": "Python 3.8.12 ('base')",
   "language": "python",
   "name": "python3"
  },
  "language_info": {
   "codemirror_mode": {
    "name": "ipython",
    "version": 3
   },
   "file_extension": ".py",
   "mimetype": "text/x-python",
   "name": "python",
   "nbconvert_exporter": "python",
   "pygments_lexer": "ipython3",
   "version": "3.8.12"
  },
  "orig_nbformat": 4,
  "vscode": {
   "interpreter": {
    "hash": "1a98dfdbf5f4dedf5e8d8f4bfd1359a63aa6179b015a1f011f140876f85c4cf3"
   }
  }
 },
 "nbformat": 4,
 "nbformat_minor": 2
}
